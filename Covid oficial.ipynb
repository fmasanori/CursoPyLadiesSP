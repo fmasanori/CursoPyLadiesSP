{
 "cells": [
  {
   "cell_type": "markdown",
   "metadata": {},
   "source": [
    "#### Os dados, até a data do presente estudo, estão no https://covid.saude.gov.br/\n",
    "#### O presente arquivo é de 06 de maio. Atenção: de acordo com o dia em que for feita a análise, a última barra da totalização por semana estará menor.\n",
    "#### Disclaimer/Aviso Legal: Este notebook tem um fim única e exclusivamente didático, para alunos da FATEC, como uma introdução à Análise de Dados Públicos. Desse modo, está excluída a garantia ou responsabilidade de qualquer tipo, por exemplo, de precisão, confiabilidade, completude e atualidade das informações."
   ]
  },
  {
   "cell_type": "code",
   "execution_count": 1,
   "metadata": {},
   "outputs": [],
   "source": [
    "import pandas as pd\n",
    "low_memory=False\n",
    "import matplotlib.pyplot as plt\n",
    "%matplotlib inline\n",
    "pd.options.display.max_columns = 80\n",
    "pd.options.display.max_rows = 90"
   ]
  },
  {
   "cell_type": "code",
   "execution_count": 2,
   "metadata": {},
   "outputs": [],
   "source": [
    "filename = r'C:\\Users\\fmasa\\Downloads\\HIST_PAINEL_COVIDBR_06mai2021.csv'\n",
    "df = pd.read_csv(filename, delimiter=';',\n",
    "                 error_bad_lines=False)"
   ]
  },
  {
   "cell_type": "code",
   "execution_count": 3,
   "metadata": {},
   "outputs": [
    {
     "data": {
      "text/plain": [
       "(2282184, 17)"
      ]
     },
     "execution_count": 3,
     "metadata": {},
     "output_type": "execute_result"
    }
   ],
   "source": [
    "df.shape"
   ]
  },
  {
   "cell_type": "code",
   "execution_count": 4,
   "metadata": {},
   "outputs": [
    {
     "name": "stdout",
     "output_type": "stream",
     "text": [
      "<class 'pandas.core.frame.DataFrame'>\n",
      "RangeIndex: 2282184 entries, 0 to 2282183\n",
      "Data columns (total 17 columns):\n",
      " #   Column                  Dtype  \n",
      "---  ------                  -----  \n",
      " 0   regiao                  object \n",
      " 1   estado                  object \n",
      " 2   municipio               object \n",
      " 3   coduf                   int64  \n",
      " 4   codmun                  float64\n",
      " 5   codRegiaoSaude          float64\n",
      " 6   nomeRegiaoSaude         object \n",
      " 7   data                    object \n",
      " 8   semanaEpi               int64  \n",
      " 9   populacaoTCU2019        float64\n",
      " 10  casosAcumulado          int64  \n",
      " 11  casosNovos              int64  \n",
      " 12  obitosAcumulado         int64  \n",
      " 13  obitosNovos             int64  \n",
      " 14  Recuperadosnovos        float64\n",
      " 15  emAcompanhamentoNovos   float64\n",
      " 16  interior/metropolitana  float64\n",
      "dtypes: float64(6), int64(6), object(5)\n",
      "memory usage: 296.0+ MB\n"
     ]
    }
   ],
   "source": [
    "df.info()"
   ]
  },
  {
   "cell_type": "code",
   "execution_count": 5,
   "metadata": {},
   "outputs": [
    {
     "data": {
      "text/html": [
       "<div>\n",
       "<style scoped>\n",
       "    .dataframe tbody tr th:only-of-type {\n",
       "        vertical-align: middle;\n",
       "    }\n",
       "\n",
       "    .dataframe tbody tr th {\n",
       "        vertical-align: top;\n",
       "    }\n",
       "\n",
       "    .dataframe thead th {\n",
       "        text-align: right;\n",
       "    }\n",
       "</style>\n",
       "<table border=\"1\" class=\"dataframe\">\n",
       "  <thead>\n",
       "    <tr style=\"text-align: right;\">\n",
       "      <th></th>\n",
       "      <th>regiao</th>\n",
       "      <th>estado</th>\n",
       "      <th>municipio</th>\n",
       "      <th>coduf</th>\n",
       "      <th>codmun</th>\n",
       "      <th>codRegiaoSaude</th>\n",
       "      <th>nomeRegiaoSaude</th>\n",
       "      <th>data</th>\n",
       "      <th>semanaEpi</th>\n",
       "      <th>populacaoTCU2019</th>\n",
       "      <th>casosAcumulado</th>\n",
       "      <th>casosNovos</th>\n",
       "      <th>obitosAcumulado</th>\n",
       "      <th>obitosNovos</th>\n",
       "      <th>Recuperadosnovos</th>\n",
       "      <th>emAcompanhamentoNovos</th>\n",
       "      <th>interior/metropolitana</th>\n",
       "    </tr>\n",
       "  </thead>\n",
       "  <tbody>\n",
       "    <tr>\n",
       "      <th>317316</th>\n",
       "      <td>Nordeste</td>\n",
       "      <td>PI</td>\n",
       "      <td>Fartura do Piauí</td>\n",
       "      <td>22</td>\n",
       "      <td>220375.0</td>\n",
       "      <td>22006.0</td>\n",
       "      <td>SERRA DA CAPIVARA</td>\n",
       "      <td>2020-09-15</td>\n",
       "      <td>38</td>\n",
       "      <td>5307.0</td>\n",
       "      <td>32</td>\n",
       "      <td>0</td>\n",
       "      <td>1</td>\n",
       "      <td>0</td>\n",
       "      <td>NaN</td>\n",
       "      <td>NaN</td>\n",
       "      <td>0.0</td>\n",
       "    </tr>\n",
       "    <tr>\n",
       "      <th>2279835</th>\n",
       "      <td>Centro-Oeste</td>\n",
       "      <td>GO</td>\n",
       "      <td>Varjão</td>\n",
       "      <td>52</td>\n",
       "      <td>522190.0</td>\n",
       "      <td>52002.0</td>\n",
       "      <td>CENTRO SUL</td>\n",
       "      <td>2020-06-22</td>\n",
       "      <td>26</td>\n",
       "      <td>3827.0</td>\n",
       "      <td>4</td>\n",
       "      <td>0</td>\n",
       "      <td>0</td>\n",
       "      <td>0</td>\n",
       "      <td>NaN</td>\n",
       "      <td>NaN</td>\n",
       "      <td>0.0</td>\n",
       "    </tr>\n",
       "    <tr>\n",
       "      <th>1658200</th>\n",
       "      <td>Sul</td>\n",
       "      <td>PR</td>\n",
       "      <td>Goioxim</td>\n",
       "      <td>41</td>\n",
       "      <td>410865.0</td>\n",
       "      <td>41005.0</td>\n",
       "      <td>5ª RS GUARAPUAVA</td>\n",
       "      <td>2020-05-04</td>\n",
       "      <td>19</td>\n",
       "      <td>7111.0</td>\n",
       "      <td>0</td>\n",
       "      <td>0</td>\n",
       "      <td>0</td>\n",
       "      <td>0</td>\n",
       "      <td>NaN</td>\n",
       "      <td>NaN</td>\n",
       "      <td>0.0</td>\n",
       "    </tr>\n",
       "    <tr>\n",
       "      <th>542795</th>\n",
       "      <td>Nordeste</td>\n",
       "      <td>PB</td>\n",
       "      <td>Catingueira</td>\n",
       "      <td>25</td>\n",
       "      <td>250420.0</td>\n",
       "      <td>25006.0</td>\n",
       "      <td>6ª REGIAO</td>\n",
       "      <td>2021-02-11</td>\n",
       "      <td>6</td>\n",
       "      <td>4932.0</td>\n",
       "      <td>59</td>\n",
       "      <td>0</td>\n",
       "      <td>3</td>\n",
       "      <td>0</td>\n",
       "      <td>NaN</td>\n",
       "      <td>NaN</td>\n",
       "      <td>0.0</td>\n",
       "    </tr>\n",
       "    <tr>\n",
       "      <th>1484055</th>\n",
       "      <td>Sudeste</td>\n",
       "      <td>SP</td>\n",
       "      <td>Mococa</td>\n",
       "      <td>35</td>\n",
       "      <td>353050.0</td>\n",
       "      <td>35143.0</td>\n",
       "      <td>RIO PARDO</td>\n",
       "      <td>2020-06-02</td>\n",
       "      <td>23</td>\n",
       "      <td>68885.0</td>\n",
       "      <td>51</td>\n",
       "      <td>9</td>\n",
       "      <td>3</td>\n",
       "      <td>0</td>\n",
       "      <td>NaN</td>\n",
       "      <td>NaN</td>\n",
       "      <td>0.0</td>\n",
       "    </tr>\n",
       "    <tr>\n",
       "      <th>1791285</th>\n",
       "      <td>Sul</td>\n",
       "      <td>SC</td>\n",
       "      <td>Capão Alto</td>\n",
       "      <td>42</td>\n",
       "      <td>420325.0</td>\n",
       "      <td>42013.0</td>\n",
       "      <td>SERRA CATARINENSE</td>\n",
       "      <td>2021-03-23</td>\n",
       "      <td>12</td>\n",
       "      <td>2525.0</td>\n",
       "      <td>122</td>\n",
       "      <td>2</td>\n",
       "      <td>2</td>\n",
       "      <td>0</td>\n",
       "      <td>NaN</td>\n",
       "      <td>NaN</td>\n",
       "      <td>0.0</td>\n",
       "    </tr>\n",
       "    <tr>\n",
       "      <th>696995</th>\n",
       "      <td>Nordeste</td>\n",
       "      <td>AL</td>\n",
       "      <td>Dois Riachos</td>\n",
       "      <td>27</td>\n",
       "      <td>270250.0</td>\n",
       "      <td>27009.0</td>\n",
       "      <td>9ª REGIAO DE SAUDE</td>\n",
       "      <td>2020-11-23</td>\n",
       "      <td>48</td>\n",
       "      <td>11075.0</td>\n",
       "      <td>204</td>\n",
       "      <td>0</td>\n",
       "      <td>2</td>\n",
       "      <td>0</td>\n",
       "      <td>NaN</td>\n",
       "      <td>NaN</td>\n",
       "      <td>0.0</td>\n",
       "    </tr>\n",
       "    <tr>\n",
       "      <th>2267187</th>\n",
       "      <td>Centro-Oeste</td>\n",
       "      <td>GO</td>\n",
       "      <td>Santo Antônio da Barra</td>\n",
       "      <td>52</td>\n",
       "      <td>521971.0</td>\n",
       "      <td>52015.0</td>\n",
       "      <td>SUDOESTE I</td>\n",
       "      <td>2020-04-21</td>\n",
       "      <td>17</td>\n",
       "      <td>4821.0</td>\n",
       "      <td>0</td>\n",
       "      <td>0</td>\n",
       "      <td>0</td>\n",
       "      <td>0</td>\n",
       "      <td>NaN</td>\n",
       "      <td>NaN</td>\n",
       "      <td>0.0</td>\n",
       "    </tr>\n",
       "    <tr>\n",
       "      <th>1916686</th>\n",
       "      <td>Sul</td>\n",
       "      <td>RS</td>\n",
       "      <td>Camaquã</td>\n",
       "      <td>43</td>\n",
       "      <td>430350.0</td>\n",
       "      <td>43009.0</td>\n",
       "      <td>REGIAO 09</td>\n",
       "      <td>2021-01-29</td>\n",
       "      <td>4</td>\n",
       "      <td>66261.0</td>\n",
       "      <td>3232</td>\n",
       "      <td>6</td>\n",
       "      <td>40</td>\n",
       "      <td>0</td>\n",
       "      <td>NaN</td>\n",
       "      <td>NaN</td>\n",
       "      <td>0.0</td>\n",
       "    </tr>\n",
       "    <tr>\n",
       "      <th>1822899</th>\n",
       "      <td>Sul</td>\n",
       "      <td>SC</td>\n",
       "      <td>Jaborá</td>\n",
       "      <td>42</td>\n",
       "      <td>420860.0</td>\n",
       "      <td>42008.0</td>\n",
       "      <td>MEIO OESTE</td>\n",
       "      <td>2021-01-28</td>\n",
       "      <td>4</td>\n",
       "      <td>3936.0</td>\n",
       "      <td>360</td>\n",
       "      <td>0</td>\n",
       "      <td>3</td>\n",
       "      <td>0</td>\n",
       "      <td>NaN</td>\n",
       "      <td>NaN</td>\n",
       "      <td>0.0</td>\n",
       "    </tr>\n",
       "  </tbody>\n",
       "</table>\n",
       "</div>"
      ],
      "text/plain": [
       "               regiao estado               municipio  coduf    codmun  \\\n",
       "317316       Nordeste     PI        Fartura do Piauí     22  220375.0   \n",
       "2279835  Centro-Oeste     GO                  Varjão     52  522190.0   \n",
       "1658200           Sul     PR                 Goioxim     41  410865.0   \n",
       "542795       Nordeste     PB             Catingueira     25  250420.0   \n",
       "1484055       Sudeste     SP                  Mococa     35  353050.0   \n",
       "1791285           Sul     SC              Capão Alto     42  420325.0   \n",
       "696995       Nordeste     AL            Dois Riachos     27  270250.0   \n",
       "2267187  Centro-Oeste     GO  Santo Antônio da Barra     52  521971.0   \n",
       "1916686           Sul     RS                 Camaquã     43  430350.0   \n",
       "1822899           Sul     SC                  Jaborá     42  420860.0   \n",
       "\n",
       "         codRegiaoSaude     nomeRegiaoSaude        data  semanaEpi  \\\n",
       "317316          22006.0   SERRA DA CAPIVARA  2020-09-15         38   \n",
       "2279835         52002.0          CENTRO SUL  2020-06-22         26   \n",
       "1658200         41005.0    5ª RS GUARAPUAVA  2020-05-04         19   \n",
       "542795          25006.0           6ª REGIAO  2021-02-11          6   \n",
       "1484055         35143.0           RIO PARDO  2020-06-02         23   \n",
       "1791285         42013.0   SERRA CATARINENSE  2021-03-23         12   \n",
       "696995          27009.0  9ª REGIAO DE SAUDE  2020-11-23         48   \n",
       "2267187         52015.0          SUDOESTE I  2020-04-21         17   \n",
       "1916686         43009.0           REGIAO 09  2021-01-29          4   \n",
       "1822899         42008.0          MEIO OESTE  2021-01-28          4   \n",
       "\n",
       "         populacaoTCU2019  casosAcumulado  casosNovos  obitosAcumulado  \\\n",
       "317316             5307.0              32           0                1   \n",
       "2279835            3827.0               4           0                0   \n",
       "1658200            7111.0               0           0                0   \n",
       "542795             4932.0              59           0                3   \n",
       "1484055           68885.0              51           9                3   \n",
       "1791285            2525.0             122           2                2   \n",
       "696995            11075.0             204           0                2   \n",
       "2267187            4821.0               0           0                0   \n",
       "1916686           66261.0            3232           6               40   \n",
       "1822899            3936.0             360           0                3   \n",
       "\n",
       "         obitosNovos  Recuperadosnovos  emAcompanhamentoNovos  \\\n",
       "317316             0               NaN                    NaN   \n",
       "2279835            0               NaN                    NaN   \n",
       "1658200            0               NaN                    NaN   \n",
       "542795             0               NaN                    NaN   \n",
       "1484055            0               NaN                    NaN   \n",
       "1791285            0               NaN                    NaN   \n",
       "696995             0               NaN                    NaN   \n",
       "2267187            0               NaN                    NaN   \n",
       "1916686            0               NaN                    NaN   \n",
       "1822899            0               NaN                    NaN   \n",
       "\n",
       "         interior/metropolitana  \n",
       "317316                      0.0  \n",
       "2279835                     0.0  \n",
       "1658200                     0.0  \n",
       "542795                      0.0  \n",
       "1484055                     0.0  \n",
       "1791285                     0.0  \n",
       "696995                      0.0  \n",
       "2267187                     0.0  \n",
       "1916686                     0.0  \n",
       "1822899                     0.0  "
      ]
     },
     "execution_count": 5,
     "metadata": {},
     "output_type": "execute_result"
    }
   ],
   "source": [
    "df.sample(10)"
   ]
  },
  {
   "cell_type": "code",
   "execution_count": 6,
   "metadata": {},
   "outputs": [
    {
     "data": {
      "text/plain": [
       "estado\n",
       "SP    99406\n",
       "RJ    45914\n",
       "MG    35165\n",
       "RS    25668\n",
       "PR    23493\n",
       "BA    18980\n",
       "CE    18167\n",
       "GO    15467\n",
       "PE    14385\n",
       "SC    13931\n",
       "PA    13391\n",
       "AM    12707\n",
       "MT     9877\n",
       "ES     9784\n",
       "DF     8026\n",
       "MA     7473\n",
       "PB     6964\n",
       "MS     5937\n",
       "RN     5599\n",
       "RO     5281\n",
       "PI     5260\n",
       "SE     4441\n",
       "AL     4329\n",
       "TO     2630\n",
       "AP     1573\n",
       "AC     1568\n",
       "RR     1533\n",
       "Name: obitosAcumulado, dtype: int64"
      ]
     },
     "execution_count": 6,
     "metadata": {},
     "output_type": "execute_result"
    }
   ],
   "source": [
    "df.groupby('estado')['obitosAcumulado'].max().sort_values(ascending=False)"
   ]
  },
  {
   "cell_type": "code",
   "execution_count": 8,
   "metadata": {},
   "outputs": [
    {
     "data": {
      "text/plain": [
       "<AxesSubplot:ylabel='estado'>"
      ]
     },
     "execution_count": 8,
     "metadata": {},
     "output_type": "execute_result"
    },
    {
     "data": {
      "image/png": "[encoded data removed]",
      "text/plain": [
       "<Figure size 432x288 with 1 Axes>"
      ]
     },
     "metadata": {
      "needs_background": "light"
     },
     "output_type": "display_data"
    }
   ],
   "source": [
    "df.groupby('estado')['obitosAcumulado'].max().sort_values().tail(7).plot(kind='barh')"
   ]
  },
  {
   "cell_type": "code",
   "execution_count": 9,
   "metadata": {},
   "outputs": [
    {
     "data": {
      "text/plain": [
       "<AxesSubplot:xlabel='data'>"
      ]
     },
     "execution_count": 9,
     "metadata": {},
     "output_type": "execute_result"
    },
    {
     "data": {
      "image/png": "[encoded data removed]",
      "text/plain": [
       "<Figure size 432x288 with 1 Axes>"
      ]
     },
     "metadata": {
      "needs_background": "light"
     },
     "output_type": "display_data"
    }
   ],
   "source": [
    "sjc = df.query('municipio == \"São José dos Campos\"')\n",
    "sjc.tail(21).plot(kind='bar', \n",
    "        x='data', y='casosNovos', color='GREEN')"
   ]
  },
  {
   "cell_type": "code",
   "execution_count": 10,
   "metadata": {},
   "outputs": [
    {
     "data": {
      "text/plain": [
       "<AxesSubplot:xlabel='semanaEpi'>"
      ]
     },
     "execution_count": 10,
     "metadata": {},
     "output_type": "execute_result"
    },
    {
     "data": {
      "image/png": "[encoded data removed]",
      "text/plain": [
       "<Figure size 432x288 with 1 Axes>"
      ]
     },
     "metadata": {
      "needs_background": "light"
     },
     "output_type": "display_data"
    }
   ],
   "source": [
    "sjc.groupby('semanaEpi')['casosNovos'].sum().plot(kind='bar')"
   ]
  },
  {
   "cell_type": "code",
   "execution_count": 12,
   "metadata": {},
   "outputs": [
    {
     "data": {
      "text/plain": [
       "<AxesSubplot:xlabel='data'>"
      ]
     },
     "execution_count": 12,
     "metadata": {},
     "output_type": "execute_result"
    },
    {
     "data": {
      "image/png": "[encoded data removed]",
      "text/plain": [
       "<Figure size 432x288 with 1 Axes>"
      ]
     },
     "metadata": {
      "needs_background": "light"
     },
     "output_type": "display_data"
    }
   ],
   "source": [
    "sp = df.query('municipio == \"São Paulo\"')\n",
    "sp.tail(21).plot(kind='bar', \n",
    "        x='data', y='casosNovos', color='RED')"
   ]
  },
  {
   "cell_type": "code",
   "execution_count": 13,
   "metadata": {},
   "outputs": [
    {
     "data": {
      "text/plain": [
       "<AxesSubplot:xlabel='semanaEpi'>"
      ]
     },
     "execution_count": 13,
     "metadata": {},
     "output_type": "execute_result"
    },
    {
     "data": {
      "image/png": "[encoded data removed]",
      "text/plain": [
       "<Figure size 432x288 with 1 Axes>"
      ]
     },
     "metadata": {
      "needs_background": "light"
     },
     "output_type": "display_data"
    }
   ],
   "source": [
    "sp.groupby('semanaEpi')['casosNovos'].sum().plot(kind='bar')"
   ]
  },
  {
   "cell_type": "code",
   "execution_count": null,
   "metadata": {},
   "outputs": [],
   "source": []
  }
 ],
 "metadata": {
  "kernelspec": {
   "display_name": "Python 3",
   "language": "python",
   "name": "python3"
  },
  "language_info": {
   "codemirror_mode": {
    "name": "ipython",
    "version": 3
   },
   "file_extension": ".py",
   "mimetype": "text/x-python",
   "name": "python",
   "nbconvert_exporter": "python",
   "pygments_lexer": "ipython3",
   "version": "3.9.2"
  }
 },
 "nbformat": 4,
 "nbformat_minor": 4
}
