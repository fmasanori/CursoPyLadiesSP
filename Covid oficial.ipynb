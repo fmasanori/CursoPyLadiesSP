{
 "cells": [
  {
   "cell_type": "markdown",
   "metadata": {},
   "source": [
    "#### Os dados, até a data do presente estudo, estão no https://covid.saude.gov.br/\n",
    "#### O presente arquivo é de 05 de maio. Atenção: de acordo com o dia em que for feita a análise, a última barra da totalização por semana estará menor.\n",
    "#### Disclaimer/Aviso Legal: Este notebook tem um fim única e exclusivamente didático, para alunos da FATEC, como uma introdução à Análise de Dados Públicos. Desse modo, está excluída a garantia ou responsabilidade de qualquer tipo, por exemplo, de precisão, confiabilidade, completude e atualidade das informações."
   ]
  },
  {
   "cell_type": "code",
   "execution_count": 1,
   "metadata": {},
   "outputs": [],
   "source": [
    "import pandas as pd\n",
    "low_memory=False\n",
    "import matplotlib.pyplot as plt\n",
    "%matplotlib inline\n",
    "pd.options.display.max_columns = 80\n",
    "pd.options.display.max_rows = 90"
   ]
  },
  {
   "cell_type": "code",
   "execution_count": 2,
   "metadata": {},
   "outputs": [],
   "source": [
    "filename = r'C:\\Users\\fmasa\\Downloads\\HIST_PAINEL_COVIDBR_05mai2021.csv'\n",
    "df = pd.read_csv(filename, delimiter=';',\n",
    "                 error_bad_lines=False)"
   ]
  },
  {
   "cell_type": "code",
   "execution_count": 3,
   "metadata": {},
   "outputs": [
    {
     "data": {
      "text/plain": [
       "(2276565, 17)"
      ]
     },
     "execution_count": 3,
     "metadata": {},
     "output_type": "execute_result"
    }
   ],
   "source": [
    "df.shape"
   ]
  },
  {
   "cell_type": "code",
   "execution_count": 4,
   "metadata": {},
   "outputs": [
    {
     "name": "stdout",
     "output_type": "stream",
     "text": [
      "<class 'pandas.core.frame.DataFrame'>\n",
      "RangeIndex: 2276565 entries, 0 to 2276564\n",
      "Data columns (total 17 columns):\n",
      " #   Column                  Dtype  \n",
      "---  ------                  -----  \n",
      " 0   regiao                  object \n",
      " 1   estado                  object \n",
      " 2   municipio               object \n",
      " 3   coduf                   int64  \n",
      " 4   codmun                  float64\n",
      " 5   codRegiaoSaude          float64\n",
      " 6   nomeRegiaoSaude         object \n",
      " 7   data                    object \n",
      " 8   semanaEpi               int64  \n",
      " 9   populacaoTCU2019        float64\n",
      " 10  casosAcumulado          int64  \n",
      " 11  casosNovos              int64  \n",
      " 12  obitosAcumulado         int64  \n",
      " 13  obitosNovos             int64  \n",
      " 14  Recuperadosnovos        float64\n",
      " 15  emAcompanhamentoNovos   float64\n",
      " 16  interior/metropolitana  float64\n",
      "dtypes: float64(6), int64(6), object(5)\n",
      "memory usage: 295.3+ MB\n"
     ]
    }
   ],
   "source": [
    "df.info()"
   ]
  },
  {
   "cell_type": "code",
   "execution_count": 5,
   "metadata": {},
   "outputs": [
    {
     "data": {
      "text/html": [
       "<div>\n",
       "<style scoped>\n",
       "    .dataframe tbody tr th:only-of-type {\n",
       "        vertical-align: middle;\n",
       "    }\n",
       "\n",
       "    .dataframe tbody tr th {\n",
       "        vertical-align: top;\n",
       "    }\n",
       "\n",
       "    .dataframe thead th {\n",
       "        text-align: right;\n",
       "    }\n",
       "</style>\n",
       "<table border=\"1\" class=\"dataframe\">\n",
       "  <thead>\n",
       "    <tr style=\"text-align: right;\">\n",
       "      <th></th>\n",
       "      <th>regiao</th>\n",
       "      <th>estado</th>\n",
       "      <th>municipio</th>\n",
       "      <th>coduf</th>\n",
       "      <th>codmun</th>\n",
       "      <th>codRegiaoSaude</th>\n",
       "      <th>nomeRegiaoSaude</th>\n",
       "      <th>data</th>\n",
       "      <th>semanaEpi</th>\n",
       "      <th>populacaoTCU2019</th>\n",
       "      <th>casosAcumulado</th>\n",
       "      <th>casosNovos</th>\n",
       "      <th>obitosAcumulado</th>\n",
       "      <th>obitosNovos</th>\n",
       "      <th>Recuperadosnovos</th>\n",
       "      <th>emAcompanhamentoNovos</th>\n",
       "      <th>interior/metropolitana</th>\n",
       "    </tr>\n",
       "  </thead>\n",
       "  <tbody>\n",
       "    <tr>\n",
       "      <th>1189326</th>\n",
       "      <td>Sudeste</td>\n",
       "      <td>MG</td>\n",
       "      <td>Rio Preto</td>\n",
       "      <td>31</td>\n",
       "      <td>315590.0</td>\n",
       "      <td>31090.0</td>\n",
       "      <td>LIMA DUARTE</td>\n",
       "      <td>2020-09-29</td>\n",
       "      <td>40</td>\n",
       "      <td>5476.0</td>\n",
       "      <td>6</td>\n",
       "      <td>0</td>\n",
       "      <td>0</td>\n",
       "      <td>0</td>\n",
       "      <td>NaN</td>\n",
       "      <td>NaN</td>\n",
       "      <td>0.0</td>\n",
       "    </tr>\n",
       "    <tr>\n",
       "      <th>189697</th>\n",
       "      <td>Norte</td>\n",
       "      <td>TO</td>\n",
       "      <td>São Sebastião do Tocantins</td>\n",
       "      <td>17</td>\n",
       "      <td>172030.0</td>\n",
       "      <td>17002.0</td>\n",
       "      <td>BICO DO PAPAGAIO</td>\n",
       "      <td>2020-07-02</td>\n",
       "      <td>27</td>\n",
       "      <td>4805.0</td>\n",
       "      <td>20</td>\n",
       "      <td>0</td>\n",
       "      <td>0</td>\n",
       "      <td>0</td>\n",
       "      <td>NaN</td>\n",
       "      <td>NaN</td>\n",
       "      <td>0.0</td>\n",
       "    </tr>\n",
       "    <tr>\n",
       "      <th>1262872</th>\n",
       "      <td>Sudeste</td>\n",
       "      <td>MG</td>\n",
       "      <td>Vargem Bonita</td>\n",
       "      <td>31</td>\n",
       "      <td>317060.0</td>\n",
       "      <td>31093.0</td>\n",
       "      <td>PIUMHI</td>\n",
       "      <td>2020-04-18</td>\n",
       "      <td>16</td>\n",
       "      <td>2153.0</td>\n",
       "      <td>0</td>\n",
       "      <td>0</td>\n",
       "      <td>0</td>\n",
       "      <td>0</td>\n",
       "      <td>NaN</td>\n",
       "      <td>NaN</td>\n",
       "      <td>0.0</td>\n",
       "    </tr>\n",
       "    <tr>\n",
       "      <th>196839</th>\n",
       "      <td>Nordeste</td>\n",
       "      <td>MA</td>\n",
       "      <td>Afonso Cunha</td>\n",
       "      <td>21</td>\n",
       "      <td>210010.0</td>\n",
       "      <td>21005.0</td>\n",
       "      <td>CAXIAS</td>\n",
       "      <td>2021-03-16</td>\n",
       "      <td>11</td>\n",
       "      <td>6524.0</td>\n",
       "      <td>154</td>\n",
       "      <td>0</td>\n",
       "      <td>2</td>\n",
       "      <td>0</td>\n",
       "      <td>NaN</td>\n",
       "      <td>NaN</td>\n",
       "      <td>0.0</td>\n",
       "    </tr>\n",
       "    <tr>\n",
       "      <th>1031769</th>\n",
       "      <td>Sudeste</td>\n",
       "      <td>MG</td>\n",
       "      <td>Doresópolis</td>\n",
       "      <td>31</td>\n",
       "      <td>312340.0</td>\n",
       "      <td>31093.0</td>\n",
       "      <td>PIUMHI</td>\n",
       "      <td>2020-09-17</td>\n",
       "      <td>38</td>\n",
       "      <td>1527.0</td>\n",
       "      <td>47</td>\n",
       "      <td>0</td>\n",
       "      <td>0</td>\n",
       "      <td>0</td>\n",
       "      <td>NaN</td>\n",
       "      <td>NaN</td>\n",
       "      <td>0.0</td>\n",
       "    </tr>\n",
       "    <tr>\n",
       "      <th>2100900</th>\n",
       "      <td>Centro-Oeste</td>\n",
       "      <td>MS</td>\n",
       "      <td>Glória de Dourados</td>\n",
       "      <td>50</td>\n",
       "      <td>500400.0</td>\n",
       "      <td>50003.0</td>\n",
       "      <td>DOURADOS</td>\n",
       "      <td>2020-07-10</td>\n",
       "      <td>28</td>\n",
       "      <td>9965.0</td>\n",
       "      <td>38</td>\n",
       "      <td>4</td>\n",
       "      <td>1</td>\n",
       "      <td>0</td>\n",
       "      <td>NaN</td>\n",
       "      <td>NaN</td>\n",
       "      <td>0.0</td>\n",
       "    </tr>\n",
       "    <tr>\n",
       "      <th>2056500</th>\n",
       "      <td>Sul</td>\n",
       "      <td>RS</td>\n",
       "      <td>Sede Nova</td>\n",
       "      <td>43</td>\n",
       "      <td>432023.0</td>\n",
       "      <td>43013.0</td>\n",
       "      <td>REGIAO 13</td>\n",
       "      <td>2020-12-07</td>\n",
       "      <td>50</td>\n",
       "      <td>2907.0</td>\n",
       "      <td>29</td>\n",
       "      <td>0</td>\n",
       "      <td>1</td>\n",
       "      <td>0</td>\n",
       "      <td>NaN</td>\n",
       "      <td>NaN</td>\n",
       "      <td>0.0</td>\n",
       "    </tr>\n",
       "    <tr>\n",
       "      <th>1535461</th>\n",
       "      <td>Sudeste</td>\n",
       "      <td>SP</td>\n",
       "      <td>Restinga</td>\n",
       "      <td>35</td>\n",
       "      <td>354270.0</td>\n",
       "      <td>35081.0</td>\n",
       "      <td>TRES COLINAS</td>\n",
       "      <td>2020-05-12</td>\n",
       "      <td>20</td>\n",
       "      <td>7593.0</td>\n",
       "      <td>0</td>\n",
       "      <td>0</td>\n",
       "      <td>0</td>\n",
       "      <td>0</td>\n",
       "      <td>NaN</td>\n",
       "      <td>NaN</td>\n",
       "      <td>0.0</td>\n",
       "    </tr>\n",
       "    <tr>\n",
       "      <th>1183188</th>\n",
       "      <td>Sudeste</td>\n",
       "      <td>MG</td>\n",
       "      <td>Riachinho</td>\n",
       "      <td>31</td>\n",
       "      <td>315445.0</td>\n",
       "      <td>31058.0</td>\n",
       "      <td>UNAI</td>\n",
       "      <td>2020-07-28</td>\n",
       "      <td>31</td>\n",
       "      <td>8136.0</td>\n",
       "      <td>14</td>\n",
       "      <td>2</td>\n",
       "      <td>0</td>\n",
       "      <td>0</td>\n",
       "      <td>NaN</td>\n",
       "      <td>NaN</td>\n",
       "      <td>0.0</td>\n",
       "    </tr>\n",
       "    <tr>\n",
       "      <th>1250220</th>\n",
       "      <td>Sudeste</td>\n",
       "      <td>MG</td>\n",
       "      <td>Tapira</td>\n",
       "      <td>31</td>\n",
       "      <td>316810.0</td>\n",
       "      <td>31070.0</td>\n",
       "      <td>ARAXA</td>\n",
       "      <td>2021-02-20</td>\n",
       "      <td>7</td>\n",
       "      <td>4773.0</td>\n",
       "      <td>160</td>\n",
       "      <td>0</td>\n",
       "      <td>1</td>\n",
       "      <td>0</td>\n",
       "      <td>NaN</td>\n",
       "      <td>NaN</td>\n",
       "      <td>0.0</td>\n",
       "    </tr>\n",
       "  </tbody>\n",
       "</table>\n",
       "</div>"
      ],
      "text/plain": [
       "               regiao estado                   municipio  coduf    codmun  \\\n",
       "1189326       Sudeste     MG                   Rio Preto     31  315590.0   \n",
       "189697          Norte     TO  São Sebastião do Tocantins     17  172030.0   \n",
       "1262872       Sudeste     MG               Vargem Bonita     31  317060.0   \n",
       "196839       Nordeste     MA                Afonso Cunha     21  210010.0   \n",
       "1031769       Sudeste     MG                 Doresópolis     31  312340.0   \n",
       "2100900  Centro-Oeste     MS          Glória de Dourados     50  500400.0   \n",
       "2056500           Sul     RS                   Sede Nova     43  432023.0   \n",
       "1535461       Sudeste     SP                    Restinga     35  354270.0   \n",
       "1183188       Sudeste     MG                   Riachinho     31  315445.0   \n",
       "1250220       Sudeste     MG                      Tapira     31  316810.0   \n",
       "\n",
       "         codRegiaoSaude   nomeRegiaoSaude        data  semanaEpi  \\\n",
       "1189326         31090.0       LIMA DUARTE  2020-09-29         40   \n",
       "189697          17002.0  BICO DO PAPAGAIO  2020-07-02         27   \n",
       "1262872         31093.0            PIUMHI  2020-04-18         16   \n",
       "196839          21005.0            CAXIAS  2021-03-16         11   \n",
       "1031769         31093.0            PIUMHI  2020-09-17         38   \n",
       "2100900         50003.0          DOURADOS  2020-07-10         28   \n",
       "2056500         43013.0         REGIAO 13  2020-12-07         50   \n",
       "1535461         35081.0      TRES COLINAS  2020-05-12         20   \n",
       "1183188         31058.0              UNAI  2020-07-28         31   \n",
       "1250220         31070.0             ARAXA  2021-02-20          7   \n",
       "\n",
       "         populacaoTCU2019  casosAcumulado  casosNovos  obitosAcumulado  \\\n",
       "1189326            5476.0               6           0                0   \n",
       "189697             4805.0              20           0                0   \n",
       "1262872            2153.0               0           0                0   \n",
       "196839             6524.0             154           0                2   \n",
       "1031769            1527.0              47           0                0   \n",
       "2100900            9965.0              38           4                1   \n",
       "2056500            2907.0              29           0                1   \n",
       "1535461            7593.0               0           0                0   \n",
       "1183188            8136.0              14           2                0   \n",
       "1250220            4773.0             160           0                1   \n",
       "\n",
       "         obitosNovos  Recuperadosnovos  emAcompanhamentoNovos  \\\n",
       "1189326            0               NaN                    NaN   \n",
       "189697             0               NaN                    NaN   \n",
       "1262872            0               NaN                    NaN   \n",
       "196839             0               NaN                    NaN   \n",
       "1031769            0               NaN                    NaN   \n",
       "2100900            0               NaN                    NaN   \n",
       "2056500            0               NaN                    NaN   \n",
       "1535461            0               NaN                    NaN   \n",
       "1183188            0               NaN                    NaN   \n",
       "1250220            0               NaN                    NaN   \n",
       "\n",
       "         interior/metropolitana  \n",
       "1189326                     0.0  \n",
       "189697                      0.0  \n",
       "1262872                     0.0  \n",
       "196839                      0.0  \n",
       "1031769                     0.0  \n",
       "2100900                     0.0  \n",
       "2056500                     0.0  \n",
       "1535461                     0.0  \n",
       "1183188                     0.0  \n",
       "1250220                     0.0  "
      ]
     },
     "execution_count": 5,
     "metadata": {},
     "output_type": "execute_result"
    }
   ],
   "source": [
    "df.sample(10)"
   ]
  },
  {
   "cell_type": "code",
   "execution_count": 6,
   "metadata": {},
   "outputs": [
    {
     "data": {
      "text/plain": [
       "estado\n",
       "SP    98710\n",
       "RJ    45581\n",
       "MG    34837\n",
       "RS    25544\n",
       "PR    23249\n",
       "BA    18897\n",
       "CE    18098\n",
       "GO    15394\n",
       "PE    14333\n",
       "SC    13859\n",
       "PA    13326\n",
       "AM    12691\n",
       "MT     9824\n",
       "ES     9723\n",
       "DF     7978\n",
       "MA     7438\n",
       "PB     6939\n",
       "MS     5898\n",
       "RN     5580\n",
       "RO     5265\n",
       "PI     5235\n",
       "SE     4412\n",
       "AL     4311\n",
       "TO     2615\n",
       "AP     1570\n",
       "AC     1563\n",
       "RR     1529\n",
       "Name: obitosAcumulado, dtype: int64"
      ]
     },
     "execution_count": 6,
     "metadata": {},
     "output_type": "execute_result"
    }
   ],
   "source": [
    "df.groupby('estado')['obitosAcumulado'].max().sort_values(ascending=False)"
   ]
  },
  {
   "cell_type": "code",
   "execution_count": 7,
   "metadata": {},
   "outputs": [
    {
     "data": {
      "text/plain": [
       "<AxesSubplot:ylabel='estado'>"
      ]
     },
     "execution_count": 7,
     "metadata": {},
     "output_type": "execute_result"
    },
    {
     "data": {
      "image/png": "[encoded data removed]",
      "text/plain": [
       "<Figure size 432x288 with 1 Axes>"
      ]
     },
     "metadata": {
      "needs_background": "light"
     },
     "output_type": "display_data"
    }
   ],
   "source": [
    "df.groupby('estado')['obitosAcumulado'].max().sort_values().tail(5).plot(kind='barh')"
   ]
  },
  {
   "cell_type": "code",
   "execution_count": 8,
   "metadata": {},
   "outputs": [
    {
     "data": {
      "text/plain": [
       "<AxesSubplot:xlabel='data'>"
      ]
     },
     "execution_count": 8,
     "metadata": {},
     "output_type": "execute_result"
    },
    {
     "data": {
      "image/png": "[encoded data removed]",
      "text/plain": [
       "<Figure size 432x288 with 1 Axes>"
      ]
     },
     "metadata": {
      "needs_background": "light"
     },
     "output_type": "display_data"
    }
   ],
   "source": [
    "sjc = df.query('municipio == \"São José dos Campos\"')\n",
    "sjc.tail(14).plot(kind='bar', \n",
    "        x='data', y='casosNovos', color='GREEN')"
   ]
  },
  {
   "cell_type": "code",
   "execution_count": 9,
   "metadata": {},
   "outputs": [
    {
     "data": {
      "text/plain": [
       "<AxesSubplot:xlabel='semanaEpi'>"
      ]
     },
     "execution_count": 9,
     "metadata": {},
     "output_type": "execute_result"
    },
    {
     "data": {
      "image/png": "[encoded data removed]",
      "text/plain": [
       "<Figure size 432x288 with 1 Axes>"
      ]
     },
     "metadata": {
      "needs_background": "light"
     },
     "output_type": "display_data"
    }
   ],
   "source": [
    "sjc.groupby('semanaEpi')['casosNovos'].sum().plot(kind='bar')"
   ]
  },
  {
   "cell_type": "code",
   "execution_count": 10,
   "metadata": {},
   "outputs": [
    {
     "data": {
      "text/plain": [
       "<AxesSubplot:xlabel='data'>"
      ]
     },
     "execution_count": 10,
     "metadata": {},
     "output_type": "execute_result"
    },
    {
     "data": {
      "image/png": "[encoded data removed]",
      "text/plain": [
       "<Figure size 432x288 with 1 Axes>"
      ]
     },
     "metadata": {
      "needs_background": "light"
     },
     "output_type": "display_data"
    }
   ],
   "source": [
    "sp = df.query('municipio == \"São Paulo\"')\n",
    "sp.tail(10).plot(kind='bar', \n",
    "        x='data', y='casosNovos', color='RED')"
   ]
  },
  {
   "cell_type": "code",
   "execution_count": 11,
   "metadata": {},
   "outputs": [
    {
     "data": {
      "text/plain": [
       "<AxesSubplot:xlabel='semanaEpi'>"
      ]
     },
     "execution_count": 11,
     "metadata": {},
     "output_type": "execute_result"
    },
    {
     "data": {
      "image/png": "[encoded data removed]",
      "text/plain": [
       "<Figure size 432x288 with 1 Axes>"
      ]
     },
     "metadata": {
      "needs_background": "light"
     },
     "output_type": "display_data"
    }
   ],
   "source": [
    "sp.groupby('semanaEpi')['casosNovos'].sum().plot(kind='bar')"
   ]
  },
  {
   "cell_type": "code",
   "execution_count": null,
   "metadata": {},
   "outputs": [],
   "source": []
  }
 ],
 "metadata": {
  "kernelspec": {
   "display_name": "Python 3",
   "language": "python",
   "name": "python3"
  },
  "language_info": {
   "codemirror_mode": {
    "name": "ipython",
    "version": 3
   },
   "file_extension": ".py",
   "mimetype": "text/x-python",
   "name": "python",
   "nbconvert_exporter": "python",
   "pygments_lexer": "ipython3",
   "version": "3.9.2"
  }
 },
 "nbformat": 4,
 "nbformat_minor": 4
}
