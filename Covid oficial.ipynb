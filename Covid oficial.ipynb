{
 "cells": [
  {
   "cell_type": "markdown",
   "metadata": {},
   "source": [
    "#### Os dados, até a data do presente estudo, estão no https://covid.saude.gov.br/\n",
    "#### O presente arquivo é de 06 de maio. Atenção: de acordo com o dia em que for feita a análise, a última barra da totalização por semana estará menor.\n",
    "#### Disclaimer/Aviso Legal: Este notebook tem um fim única e exclusivamente didático, para alunos da FATEC, como uma introdução à Análise de Dados Públicos. Desse modo, está excluída a garantia ou responsabilidade de qualquer tipo, por exemplo, de precisão, confiabilidade, completude e atualidade das informações."
   ]
  },
  {
   "cell_type": "code",
   "execution_count": 1,
   "metadata": {},
   "outputs": [],
   "source": [
    "import pandas as pd\n",
    "low_memory=False\n",
    "import matplotlib.pyplot as plt\n",
    "%matplotlib inline\n",
    "pd.options.display.max_columns = 80\n",
    "pd.options.display.max_rows = 90"
   ]
  },
  {
   "cell_type": "code",
   "execution_count": 2,
   "metadata": {},
   "outputs": [],
   "source": [
    "filename = r'C:\\Users\\fmasa\\Downloads\\HIST_PAINEL_COVIDBR_06mai2021.csv'\n",
    "df = pd.read_csv(filename, delimiter=';',\n",
    "                 error_bad_lines=False)"
   ]
  },
  {
   "cell_type": "code",
   "execution_count": 3,
   "metadata": {},
   "outputs": [
    {
     "data": {
      "text/plain": [
       "(2282184, 17)"
      ]
     },
     "execution_count": 3,
     "metadata": {},
     "output_type": "execute_result"
    }
   ],
   "source": [
    "df.shape"
   ]
  },
  {
   "cell_type": "code",
   "execution_count": 4,
   "metadata": {},
   "outputs": [
    {
     "name": "stdout",
     "output_type": "stream",
     "text": [
      "<class 'pandas.core.frame.DataFrame'>\n",
      "RangeIndex: 2282184 entries, 0 to 2282183\n",
      "Data columns (total 17 columns):\n",
      " #   Column                  Dtype  \n",
      "---  ------                  -----  \n",
      " 0   regiao                  object \n",
      " 1   estado                  object \n",
      " 2   municipio               object \n",
      " 3   coduf                   int64  \n",
      " 4   codmun                  float64\n",
      " 5   codRegiaoSaude          float64\n",
      " 6   nomeRegiaoSaude         object \n",
      " 7   data                    object \n",
      " 8   semanaEpi               int64  \n",
      " 9   populacaoTCU2019        float64\n",
      " 10  casosAcumulado          int64  \n",
      " 11  casosNovos              int64  \n",
      " 12  obitosAcumulado         int64  \n",
      " 13  obitosNovos             int64  \n",
      " 14  Recuperadosnovos        float64\n",
      " 15  emAcompanhamentoNovos   float64\n",
      " 16  interior/metropolitana  float64\n",
      "dtypes: float64(6), int64(6), object(5)\n",
      "memory usage: 296.0+ MB\n"
     ]
    }
   ],
   "source": [
    "df.info()"
   ]
  },
  {
   "cell_type": "code",
   "execution_count": 5,
   "metadata": {},
   "outputs": [
    {
     "data": {
      "text/html": [
       "<div>\n",
       "<style scoped>\n",
       "    .dataframe tbody tr th:only-of-type {\n",
       "        vertical-align: middle;\n",
       "    }\n",
       "\n",
       "    .dataframe tbody tr th {\n",
       "        vertical-align: top;\n",
       "    }\n",
       "\n",
       "    .dataframe thead th {\n",
       "        text-align: right;\n",
       "    }\n",
       "</style>\n",
       "<table border=\"1\" class=\"dataframe\">\n",
       "  <thead>\n",
       "    <tr style=\"text-align: right;\">\n",
       "      <th></th>\n",
       "      <th>regiao</th>\n",
       "      <th>estado</th>\n",
       "      <th>municipio</th>\n",
       "      <th>coduf</th>\n",
       "      <th>codmun</th>\n",
       "      <th>codRegiaoSaude</th>\n",
       "      <th>nomeRegiaoSaude</th>\n",
       "      <th>data</th>\n",
       "      <th>semanaEpi</th>\n",
       "      <th>populacaoTCU2019</th>\n",
       "      <th>casosAcumulado</th>\n",
       "      <th>casosNovos</th>\n",
       "      <th>obitosAcumulado</th>\n",
       "      <th>obitosNovos</th>\n",
       "      <th>Recuperadosnovos</th>\n",
       "      <th>emAcompanhamentoNovos</th>\n",
       "      <th>interior/metropolitana</th>\n",
       "    </tr>\n",
       "  </thead>\n",
       "  <tbody>\n",
       "    <tr>\n",
       "      <th>861900</th>\n",
       "      <td>Nordeste</td>\n",
       "      <td>BA</td>\n",
       "      <td>Matina</td>\n",
       "      <td>29</td>\n",
       "      <td>292105.0</td>\n",
       "      <td>29007.0</td>\n",
       "      <td>GUANAMBI</td>\n",
       "      <td>2021-01-31</td>\n",
       "      <td>5</td>\n",
       "      <td>12201.0</td>\n",
       "      <td>56</td>\n",
       "      <td>1</td>\n",
       "      <td>1</td>\n",
       "      <td>0</td>\n",
       "      <td>NaN</td>\n",
       "      <td>NaN</td>\n",
       "      <td>0.0</td>\n",
       "    </tr>\n",
       "    <tr>\n",
       "      <th>2244623</th>\n",
       "      <td>Centro-Oeste</td>\n",
       "      <td>GO</td>\n",
       "      <td>Mutunópolis</td>\n",
       "      <td>52</td>\n",
       "      <td>521410.0</td>\n",
       "      <td>52008.0</td>\n",
       "      <td>NORTE</td>\n",
       "      <td>2020-10-10</td>\n",
       "      <td>41</td>\n",
       "      <td>3778.0</td>\n",
       "      <td>21</td>\n",
       "      <td>0</td>\n",
       "      <td>0</td>\n",
       "      <td>0</td>\n",
       "      <td>NaN</td>\n",
       "      <td>NaN</td>\n",
       "      <td>0.0</td>\n",
       "    </tr>\n",
       "    <tr>\n",
       "      <th>169099</th>\n",
       "      <td>Norte</td>\n",
       "      <td>TO</td>\n",
       "      <td>Mateiros</td>\n",
       "      <td>17</td>\n",
       "      <td>171270.0</td>\n",
       "      <td>17008.0</td>\n",
       "      <td>AMOR PERFEITO</td>\n",
       "      <td>2020-08-19</td>\n",
       "      <td>34</td>\n",
       "      <td>2684.0</td>\n",
       "      <td>1</td>\n",
       "      <td>0</td>\n",
       "      <td>0</td>\n",
       "      <td>0</td>\n",
       "      <td>NaN</td>\n",
       "      <td>NaN</td>\n",
       "      <td>0.0</td>\n",
       "    </tr>\n",
       "    <tr>\n",
       "      <th>1767883</th>\n",
       "      <td>Sul</td>\n",
       "      <td>PR</td>\n",
       "      <td>Doutor Ulysses</td>\n",
       "      <td>41</td>\n",
       "      <td>412863.0</td>\n",
       "      <td>41002.0</td>\n",
       "      <td>2ª RS METROPOLITANA</td>\n",
       "      <td>2020-07-06</td>\n",
       "      <td>28</td>\n",
       "      <td>5580.0</td>\n",
       "      <td>0</td>\n",
       "      <td>0</td>\n",
       "      <td>0</td>\n",
       "      <td>0</td>\n",
       "      <td>NaN</td>\n",
       "      <td>NaN</td>\n",
       "      <td>1.0</td>\n",
       "    </tr>\n",
       "    <tr>\n",
       "      <th>1711965</th>\n",
       "      <td>Sul</td>\n",
       "      <td>PR</td>\n",
       "      <td>Paula Freitas</td>\n",
       "      <td>41</td>\n",
       "      <td>411860.0</td>\n",
       "      <td>41006.0</td>\n",
       "      <td>6ª RS UNIAO DA VITORIA</td>\n",
       "      <td>2020-10-24</td>\n",
       "      <td>43</td>\n",
       "      <td>5873.0</td>\n",
       "      <td>19</td>\n",
       "      <td>0</td>\n",
       "      <td>2</td>\n",
       "      <td>0</td>\n",
       "      <td>NaN</td>\n",
       "      <td>NaN</td>\n",
       "      <td>0.0</td>\n",
       "    </tr>\n",
       "    <tr>\n",
       "      <th>1818440</th>\n",
       "      <td>Sul</td>\n",
       "      <td>SC</td>\n",
       "      <td>Iraceminha</td>\n",
       "      <td>42</td>\n",
       "      <td>420775.0</td>\n",
       "      <td>42001.0</td>\n",
       "      <td>EXTREMO OESTE</td>\n",
       "      <td>2021-02-04</td>\n",
       "      <td>5</td>\n",
       "      <td>3976.0</td>\n",
       "      <td>206</td>\n",
       "      <td>0</td>\n",
       "      <td>1</td>\n",
       "      <td>0</td>\n",
       "      <td>NaN</td>\n",
       "      <td>NaN</td>\n",
       "      <td>0.0</td>\n",
       "    </tr>\n",
       "    <tr>\n",
       "      <th>2139383</th>\n",
       "      <td>Centro-Oeste</td>\n",
       "      <td>MT</td>\n",
       "      <td>Cuiabá</td>\n",
       "      <td>51</td>\n",
       "      <td>510340.0</td>\n",
       "      <td>51002.0</td>\n",
       "      <td>BAIXADA CUIABANA</td>\n",
       "      <td>2020-07-16</td>\n",
       "      <td>29</td>\n",
       "      <td>612547.0</td>\n",
       "      <td>6832</td>\n",
       "      <td>172</td>\n",
       "      <td>362</td>\n",
       "      <td>-4</td>\n",
       "      <td>NaN</td>\n",
       "      <td>NaN</td>\n",
       "      <td>1.0</td>\n",
       "    </tr>\n",
       "    <tr>\n",
       "      <th>549193</th>\n",
       "      <td>Nordeste</td>\n",
       "      <td>PB</td>\n",
       "      <td>Damião</td>\n",
       "      <td>25</td>\n",
       "      <td>250535.0</td>\n",
       "      <td>25004.0</td>\n",
       "      <td>4ª REGIAO</td>\n",
       "      <td>2020-11-05</td>\n",
       "      <td>45</td>\n",
       "      <td>5330.0</td>\n",
       "      <td>50</td>\n",
       "      <td>0</td>\n",
       "      <td>1</td>\n",
       "      <td>0</td>\n",
       "      <td>NaN</td>\n",
       "      <td>NaN</td>\n",
       "      <td>0.0</td>\n",
       "    </tr>\n",
       "    <tr>\n",
       "      <th>1423252</th>\n",
       "      <td>Sudeste</td>\n",
       "      <td>SP</td>\n",
       "      <td>Gavião Peixoto</td>\n",
       "      <td>35</td>\n",
       "      <td>351685.0</td>\n",
       "      <td>35031.0</td>\n",
       "      <td>CENTRAL DO DRS III</td>\n",
       "      <td>2020-09-07</td>\n",
       "      <td>37</td>\n",
       "      <td>4789.0</td>\n",
       "      <td>175</td>\n",
       "      <td>0</td>\n",
       "      <td>1</td>\n",
       "      <td>0</td>\n",
       "      <td>NaN</td>\n",
       "      <td>NaN</td>\n",
       "      <td>0.0</td>\n",
       "    </tr>\n",
       "    <tr>\n",
       "      <th>100564</th>\n",
       "      <td>Norte</td>\n",
       "      <td>PA</td>\n",
       "      <td>Magalhães Barata</td>\n",
       "      <td>15</td>\n",
       "      <td>150410.0</td>\n",
       "      <td>15008.0</td>\n",
       "      <td>METROPOLITANA III</td>\n",
       "      <td>2020-11-06</td>\n",
       "      <td>45</td>\n",
       "      <td>8548.0</td>\n",
       "      <td>196</td>\n",
       "      <td>0</td>\n",
       "      <td>12</td>\n",
       "      <td>0</td>\n",
       "      <td>NaN</td>\n",
       "      <td>NaN</td>\n",
       "      <td>0.0</td>\n",
       "    </tr>\n",
       "  </tbody>\n",
       "</table>\n",
       "</div>"
      ],
      "text/plain": [
       "               regiao estado         municipio  coduf    codmun  \\\n",
       "861900       Nordeste     BA            Matina     29  292105.0   \n",
       "2244623  Centro-Oeste     GO       Mutunópolis     52  521410.0   \n",
       "169099          Norte     TO          Mateiros     17  171270.0   \n",
       "1767883           Sul     PR    Doutor Ulysses     41  412863.0   \n",
       "1711965           Sul     PR     Paula Freitas     41  411860.0   \n",
       "1818440           Sul     SC        Iraceminha     42  420775.0   \n",
       "2139383  Centro-Oeste     MT            Cuiabá     51  510340.0   \n",
       "549193       Nordeste     PB            Damião     25  250535.0   \n",
       "1423252       Sudeste     SP    Gavião Peixoto     35  351685.0   \n",
       "100564          Norte     PA  Magalhães Barata     15  150410.0   \n",
       "\n",
       "         codRegiaoSaude         nomeRegiaoSaude        data  semanaEpi  \\\n",
       "861900          29007.0                GUANAMBI  2021-01-31          5   \n",
       "2244623         52008.0                   NORTE  2020-10-10         41   \n",
       "169099          17008.0           AMOR PERFEITO  2020-08-19         34   \n",
       "1767883         41002.0     2ª RS METROPOLITANA  2020-07-06         28   \n",
       "1711965         41006.0  6ª RS UNIAO DA VITORIA  2020-10-24         43   \n",
       "1818440         42001.0           EXTREMO OESTE  2021-02-04          5   \n",
       "2139383         51002.0        BAIXADA CUIABANA  2020-07-16         29   \n",
       "549193          25004.0               4ª REGIAO  2020-11-05         45   \n",
       "1423252         35031.0      CENTRAL DO DRS III  2020-09-07         37   \n",
       "100564          15008.0       METROPOLITANA III  2020-11-06         45   \n",
       "\n",
       "         populacaoTCU2019  casosAcumulado  casosNovos  obitosAcumulado  \\\n",
       "861900            12201.0              56           1                1   \n",
       "2244623            3778.0              21           0                0   \n",
       "169099             2684.0               1           0                0   \n",
       "1767883            5580.0               0           0                0   \n",
       "1711965            5873.0              19           0                2   \n",
       "1818440            3976.0             206           0                1   \n",
       "2139383          612547.0            6832         172              362   \n",
       "549193             5330.0              50           0                1   \n",
       "1423252            4789.0             175           0                1   \n",
       "100564             8548.0             196           0               12   \n",
       "\n",
       "         obitosNovos  Recuperadosnovos  emAcompanhamentoNovos  \\\n",
       "861900             0               NaN                    NaN   \n",
       "2244623            0               NaN                    NaN   \n",
       "169099             0               NaN                    NaN   \n",
       "1767883            0               NaN                    NaN   \n",
       "1711965            0               NaN                    NaN   \n",
       "1818440            0               NaN                    NaN   \n",
       "2139383           -4               NaN                    NaN   \n",
       "549193             0               NaN                    NaN   \n",
       "1423252            0               NaN                    NaN   \n",
       "100564             0               NaN                    NaN   \n",
       "\n",
       "         interior/metropolitana  \n",
       "861900                      0.0  \n",
       "2244623                     0.0  \n",
       "169099                      0.0  \n",
       "1767883                     1.0  \n",
       "1711965                     0.0  \n",
       "1818440                     0.0  \n",
       "2139383                     1.0  \n",
       "549193                      0.0  \n",
       "1423252                     0.0  \n",
       "100564                      0.0  "
      ]
     },
     "execution_count": 5,
     "metadata": {},
     "output_type": "execute_result"
    }
   ],
   "source": [
    "df.sample(10)"
   ]
  },
  {
   "cell_type": "code",
   "execution_count": 6,
   "metadata": {},
   "outputs": [
    {
     "data": {
      "text/plain": [
       "estado\n",
       "SP    99406\n",
       "RJ    45914\n",
       "MG    35165\n",
       "RS    25668\n",
       "PR    23493\n",
       "BA    18980\n",
       "CE    18167\n",
       "GO    15467\n",
       "PE    14385\n",
       "SC    13931\n",
       "PA    13391\n",
       "AM    12707\n",
       "MT     9877\n",
       "ES     9784\n",
       "DF     8026\n",
       "MA     7473\n",
       "PB     6964\n",
       "MS     5937\n",
       "RN     5599\n",
       "RO     5281\n",
       "PI     5260\n",
       "SE     4441\n",
       "AL     4329\n",
       "TO     2630\n",
       "AP     1573\n",
       "AC     1568\n",
       "RR     1533\n",
       "Name: obitosAcumulado, dtype: int64"
      ]
     },
     "execution_count": 6,
     "metadata": {},
     "output_type": "execute_result"
    }
   ],
   "source": [
    "df.groupby('estado')['obitosAcumulado'].max().sort_values(ascending=False)"
   ]
  },
  {
   "cell_type": "code",
   "execution_count": 7,
   "metadata": {},
   "outputs": [
    {
     "data": {
      "text/plain": [
       "<AxesSubplot:ylabel='estado'>"
      ]
     },
     "execution_count": 7,
     "metadata": {},
     "output_type": "execute_result"
    },
    {
     "data": {
      "image/png": "[encoded data removed]",
      "text/plain": [
       "<Figure size 432x288 with 1 Axes>"
      ]
     },
     "metadata": {
      "needs_background": "light"
     },
     "output_type": "display_data"
    }
   ],
   "source": [
    "df.groupby('estado')['obitosAcumulado'].max().sort_values().tail(5).plot(kind='barh')"
   ]
  },
  {
   "cell_type": "code",
   "execution_count": 8,
   "metadata": {},
   "outputs": [
    {
     "data": {
      "text/plain": [
       "<AxesSubplot:xlabel='data'>"
      ]
     },
     "execution_count": 8,
     "metadata": {},
     "output_type": "execute_result"
    },
    {
     "data": {
      "image/png": "[encoded data removed]",
      "text/plain": [
       "<Figure size 432x288 with 1 Axes>"
      ]
     },
     "metadata": {
      "needs_background": "light"
     },
     "output_type": "display_data"
    }
   ],
   "source": [
    "sjc = df.query('municipio == \"São José dos Campos\"')\n",
    "sjc.tail(14).plot(kind='bar', \n",
    "        x='data', y='casosNovos', color='GREEN')"
   ]
  },
  {
   "cell_type": "code",
   "execution_count": 9,
   "metadata": {},
   "outputs": [
    {
     "data": {
      "text/plain": [
       "<AxesSubplot:xlabel='semanaEpi'>"
      ]
     },
     "execution_count": 9,
     "metadata": {},
     "output_type": "execute_result"
    },
    {
     "data": {
      "image/png": "[encoded data removed]",
      "text/plain": [
       "<Figure size 432x288 with 1 Axes>"
      ]
     },
     "metadata": {
      "needs_background": "light"
     },
     "output_type": "display_data"
    }
   ],
   "source": [
    "sjc.groupby('semanaEpi')['casosNovos'].sum().plot(kind='bar')"
   ]
  },
  {
   "cell_type": "code",
   "execution_count": 10,
   "metadata": {},
   "outputs": [
    {
     "data": {
      "text/plain": [
       "<AxesSubplot:xlabel='data'>"
      ]
     },
     "execution_count": 10,
     "metadata": {},
     "output_type": "execute_result"
    },
    {
     "data": {
      "image/png": "[encoded data removed]",
      "text/plain": [
       "<Figure size 432x288 with 1 Axes>"
      ]
     },
     "metadata": {
      "needs_background": "light"
     },
     "output_type": "display_data"
    }
   ],
   "source": [
    "sp = df.query('municipio == \"São Paulo\"')\n",
    "sp.tail(10).plot(kind='bar', \n",
    "        x='data', y='casosNovos', color='RED')"
   ]
  },
  {
   "cell_type": "code",
   "execution_count": 11,
   "metadata": {},
   "outputs": [
    {
     "data": {
      "text/plain": [
       "<AxesSubplot:xlabel='semanaEpi'>"
      ]
     },
     "execution_count": 11,
     "metadata": {},
     "output_type": "execute_result"
    },
    {
     "data": {
      "image/png": "[encoded data removed]",
      "text/plain": [
       "<Figure size 432x288 with 1 Axes>"
      ]
     },
     "metadata": {
      "needs_background": "light"
     },
     "output_type": "display_data"
    }
   ],
   "source": [
    "sp.groupby('semanaEpi')['casosNovos'].sum().plot(kind='bar')"
   ]
  },
  {
   "cell_type": "code",
   "execution_count": null,
   "metadata": {},
   "outputs": [],
   "source": []
  }
 ],
 "metadata": {
  "kernelspec": {
   "display_name": "Python 3",
   "language": "python",
   "name": "python3"
  },
  "language_info": {
   "codemirror_mode": {
    "name": "ipython",
    "version": 3
   },
   "file_extension": ".py",
   "mimetype": "text/x-python",
   "name": "python",
   "nbconvert_exporter": "python",
   "pygments_lexer": "ipython3",
   "version": "3.9.2"
  }
 },
 "nbformat": 4,
 "nbformat_minor": 4
}
