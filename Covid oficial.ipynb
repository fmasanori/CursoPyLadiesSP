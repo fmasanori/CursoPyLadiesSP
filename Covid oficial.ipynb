{
 "cells": [
  {
   "cell_type": "markdown",
   "metadata": {},
   "source": [
    "#### Os dados, até a data do presente estudo, estão no https://covid.saude.gov.br/\n",
    "#### O presente arquivo é de 17 de maio. Atenção: de acordo com o dia em que for feita a análise, a última barra da totalização por semana estará menor.\n",
    "#### Disclaimer/Aviso Legal: Este notebook tem um fim única e exclusivamente didático, para alunos da FATEC, como uma introdução à Análise de Dados Públicos. Desse modo, está excluída a garantia ou responsabilidade de qualquer tipo, por exemplo, de precisão, confiabilidade, completude e atualidade das informações."
   ]
  },
  {
   "cell_type": "code",
   "execution_count": 1,
   "metadata": {},
   "outputs": [],
   "source": [
    "import pandas as pd\n",
    "low_memory=False\n",
    "import matplotlib.pyplot as plt\n",
    "%matplotlib inline\n",
    "pd.options.display.max_columns = 80\n",
    "pd.options.display.max_rows = 90"
   ]
  },
  {
   "cell_type": "code",
   "execution_count": 2,
   "metadata": {},
   "outputs": [],
   "source": [
    "filename = r'C:\\Users\\fmasa\\Downloads\\HIST_PAINEL_COVIDBR_17mai2021.csv'\n",
    "df = pd.read_csv(filename, delimiter=';',\n",
    "                 error_bad_lines=False)"
   ]
  },
  {
   "cell_type": "code",
   "execution_count": 3,
   "metadata": {},
   "outputs": [
    {
     "data": {
      "text/plain": [
       "(2343993, 17)"
      ]
     },
     "execution_count": 3,
     "metadata": {},
     "output_type": "execute_result"
    }
   ],
   "source": [
    "df.shape"
   ]
  },
  {
   "cell_type": "code",
   "execution_count": 4,
   "metadata": {},
   "outputs": [
    {
     "name": "stdout",
     "output_type": "stream",
     "text": [
      "<class 'pandas.core.frame.DataFrame'>\n",
      "RangeIndex: 2343993 entries, 0 to 2343992\n",
      "Data columns (total 17 columns):\n",
      " #   Column                  Dtype  \n",
      "---  ------                  -----  \n",
      " 0   regiao                  object \n",
      " 1   estado                  object \n",
      " 2   municipio               object \n",
      " 3   coduf                   int64  \n",
      " 4   codmun                  float64\n",
      " 5   codRegiaoSaude          float64\n",
      " 6   nomeRegiaoSaude         object \n",
      " 7   data                    object \n",
      " 8   semanaEpi               int64  \n",
      " 9   populacaoTCU2019        float64\n",
      " 10  casosAcumulado          float64\n",
      " 11  casosNovos              int64  \n",
      " 12  obitosAcumulado         int64  \n",
      " 13  obitosNovos             int64  \n",
      " 14  Recuperadosnovos        float64\n",
      " 15  emAcompanhamentoNovos   float64\n",
      " 16  interior/metropolitana  float64\n",
      "dtypes: float64(7), int64(5), object(5)\n",
      "memory usage: 304.0+ MB\n"
     ]
    }
   ],
   "source": [
    "df.info()"
   ]
  },
  {
   "cell_type": "code",
   "execution_count": 5,
   "metadata": {},
   "outputs": [
    {
     "data": {
      "text/html": [
       "<div>\n",
       "<style scoped>\n",
       "    .dataframe tbody tr th:only-of-type {\n",
       "        vertical-align: middle;\n",
       "    }\n",
       "\n",
       "    .dataframe tbody tr th {\n",
       "        vertical-align: top;\n",
       "    }\n",
       "\n",
       "    .dataframe thead th {\n",
       "        text-align: right;\n",
       "    }\n",
       "</style>\n",
       "<table border=\"1\" class=\"dataframe\">\n",
       "  <thead>\n",
       "    <tr style=\"text-align: right;\">\n",
       "      <th></th>\n",
       "      <th>regiao</th>\n",
       "      <th>estado</th>\n",
       "      <th>municipio</th>\n",
       "      <th>coduf</th>\n",
       "      <th>codmun</th>\n",
       "      <th>codRegiaoSaude</th>\n",
       "      <th>nomeRegiaoSaude</th>\n",
       "      <th>data</th>\n",
       "      <th>semanaEpi</th>\n",
       "      <th>populacaoTCU2019</th>\n",
       "      <th>casosAcumulado</th>\n",
       "      <th>casosNovos</th>\n",
       "      <th>obitosAcumulado</th>\n",
       "      <th>obitosNovos</th>\n",
       "      <th>Recuperadosnovos</th>\n",
       "      <th>emAcompanhamentoNovos</th>\n",
       "      <th>interior/metropolitana</th>\n",
       "    </tr>\n",
       "  </thead>\n",
       "  <tbody>\n",
       "    <tr>\n",
       "      <th>1347521</th>\n",
       "      <td>Sudeste</td>\n",
       "      <td>RJ</td>\n",
       "      <td>Cabo Frio</td>\n",
       "      <td>33</td>\n",
       "      <td>330070.0</td>\n",
       "      <td>33002.0</td>\n",
       "      <td>BAIXADA LITORANEA</td>\n",
       "      <td>2020-09-01</td>\n",
       "      <td>36</td>\n",
       "      <td>226525.0</td>\n",
       "      <td>2060.0</td>\n",
       "      <td>47</td>\n",
       "      <td>118</td>\n",
       "      <td>1</td>\n",
       "      <td>NaN</td>\n",
       "      <td>NaN</td>\n",
       "      <td>0.0</td>\n",
       "    </tr>\n",
       "    <tr>\n",
       "      <th>617939</th>\n",
       "      <td>Nordeste</td>\n",
       "      <td>PB</td>\n",
       "      <td>Serra da Raiz</td>\n",
       "      <td>25</td>\n",
       "      <td>251560.0</td>\n",
       "      <td>25002.0</td>\n",
       "      <td>2ª REGIAO</td>\n",
       "      <td>2021-02-16</td>\n",
       "      <td>7</td>\n",
       "      <td>3148.0</td>\n",
       "      <td>164.0</td>\n",
       "      <td>0</td>\n",
       "      <td>1</td>\n",
       "      <td>0</td>\n",
       "      <td>NaN</td>\n",
       "      <td>NaN</td>\n",
       "      <td>0.0</td>\n",
       "    </tr>\n",
       "    <tr>\n",
       "      <th>1404009</th>\n",
       "      <td>Sudeste</td>\n",
       "      <td>SP</td>\n",
       "      <td>Balbinos</td>\n",
       "      <td>35</td>\n",
       "      <td>350470.0</td>\n",
       "      <td>35062.0</td>\n",
       "      <td>BAURU</td>\n",
       "      <td>2021-03-13</td>\n",
       "      <td>10</td>\n",
       "      <td>5735.0</td>\n",
       "      <td>277.0</td>\n",
       "      <td>0</td>\n",
       "      <td>3</td>\n",
       "      <td>0</td>\n",
       "      <td>NaN</td>\n",
       "      <td>NaN</td>\n",
       "      <td>0.0</td>\n",
       "    </tr>\n",
       "    <tr>\n",
       "      <th>537033</th>\n",
       "      <td>Nordeste</td>\n",
       "      <td>PB</td>\n",
       "      <td>Alhandra</td>\n",
       "      <td>25</td>\n",
       "      <td>250060.0</td>\n",
       "      <td>25001.0</td>\n",
       "      <td>1ª REGIAO MATA ATLANTICA</td>\n",
       "      <td>2021-02-08</td>\n",
       "      <td>6</td>\n",
       "      <td>19588.0</td>\n",
       "      <td>844.0</td>\n",
       "      <td>3</td>\n",
       "      <td>20</td>\n",
       "      <td>0</td>\n",
       "      <td>NaN</td>\n",
       "      <td>NaN</td>\n",
       "      <td>1.0</td>\n",
       "    </tr>\n",
       "    <tr>\n",
       "      <th>178518</th>\n",
       "      <td>Norte</td>\n",
       "      <td>TO</td>\n",
       "      <td>Novo Acordo</td>\n",
       "      <td>17</td>\n",
       "      <td>171510.0</td>\n",
       "      <td>17006.0</td>\n",
       "      <td>CAPIM DOURADO</td>\n",
       "      <td>2020-04-02</td>\n",
       "      <td>14</td>\n",
       "      <td>4342.0</td>\n",
       "      <td>0.0</td>\n",
       "      <td>0</td>\n",
       "      <td>0</td>\n",
       "      <td>0</td>\n",
       "      <td>NaN</td>\n",
       "      <td>NaN</td>\n",
       "      <td>0.0</td>\n",
       "    </tr>\n",
       "    <tr>\n",
       "      <th>540793</th>\n",
       "      <td>Nordeste</td>\n",
       "      <td>PB</td>\n",
       "      <td>Areial</td>\n",
       "      <td>25</td>\n",
       "      <td>250120.0</td>\n",
       "      <td>25003.0</td>\n",
       "      <td>3ª REGIAO</td>\n",
       "      <td>2021-02-15</td>\n",
       "      <td>7</td>\n",
       "      <td>6998.0</td>\n",
       "      <td>153.0</td>\n",
       "      <td>1</td>\n",
       "      <td>5</td>\n",
       "      <td>0</td>\n",
       "      <td>NaN</td>\n",
       "      <td>NaN</td>\n",
       "      <td>0.0</td>\n",
       "    </tr>\n",
       "    <tr>\n",
       "      <th>1163807</th>\n",
       "      <td>Sudeste</td>\n",
       "      <td>MG</td>\n",
       "      <td>Morro da Garça</td>\n",
       "      <td>31</td>\n",
       "      <td>314360.0</td>\n",
       "      <td>31019.0</td>\n",
       "      <td>CURVELO</td>\n",
       "      <td>2021-03-03</td>\n",
       "      <td>9</td>\n",
       "      <td>2462.0</td>\n",
       "      <td>47.0</td>\n",
       "      <td>5</td>\n",
       "      <td>3</td>\n",
       "      <td>0</td>\n",
       "      <td>NaN</td>\n",
       "      <td>NaN</td>\n",
       "      <td>0.0</td>\n",
       "    </tr>\n",
       "    <tr>\n",
       "      <th>302573</th>\n",
       "      <td>Nordeste</td>\n",
       "      <td>PI</td>\n",
       "      <td>Bela Vista do Piauí</td>\n",
       "      <td>22</td>\n",
       "      <td>220155.0</td>\n",
       "      <td>22008.0</td>\n",
       "      <td>VALE DO CANINDE</td>\n",
       "      <td>2020-10-25</td>\n",
       "      <td>44</td>\n",
       "      <td>4015.0</td>\n",
       "      <td>44.0</td>\n",
       "      <td>0</td>\n",
       "      <td>1</td>\n",
       "      <td>0</td>\n",
       "      <td>NaN</td>\n",
       "      <td>NaN</td>\n",
       "      <td>0.0</td>\n",
       "    </tr>\n",
       "    <tr>\n",
       "      <th>2138932</th>\n",
       "      <td>Sul</td>\n",
       "      <td>RS</td>\n",
       "      <td>Vacaria</td>\n",
       "      <td>43</td>\n",
       "      <td>432250.0</td>\n",
       "      <td>43024.0</td>\n",
       "      <td>REGIAO 24</td>\n",
       "      <td>2020-07-08</td>\n",
       "      <td>28</td>\n",
       "      <td>66218.0</td>\n",
       "      <td>149.0</td>\n",
       "      <td>3</td>\n",
       "      <td>7</td>\n",
       "      <td>0</td>\n",
       "      <td>NaN</td>\n",
       "      <td>NaN</td>\n",
       "      <td>0.0</td>\n",
       "    </tr>\n",
       "    <tr>\n",
       "      <th>1263176</th>\n",
       "      <td>Sudeste</td>\n",
       "      <td>MG</td>\n",
       "      <td>São José do Alegre</td>\n",
       "      <td>31</td>\n",
       "      <td>316320.0</td>\n",
       "      <td>31003.0</td>\n",
       "      <td>ITAJUBA</td>\n",
       "      <td>2020-05-13</td>\n",
       "      <td>20</td>\n",
       "      <td>4196.0</td>\n",
       "      <td>0.0</td>\n",
       "      <td>0</td>\n",
       "      <td>0</td>\n",
       "      <td>0</td>\n",
       "      <td>NaN</td>\n",
       "      <td>NaN</td>\n",
       "      <td>0.0</td>\n",
       "    </tr>\n",
       "  </tbody>\n",
       "</table>\n",
       "</div>"
      ],
      "text/plain": [
       "           regiao estado            municipio  coduf    codmun  \\\n",
       "1347521   Sudeste     RJ            Cabo Frio     33  330070.0   \n",
       "617939   Nordeste     PB        Serra da Raiz     25  251560.0   \n",
       "1404009   Sudeste     SP             Balbinos     35  350470.0   \n",
       "537033   Nordeste     PB             Alhandra     25  250060.0   \n",
       "178518      Norte     TO          Novo Acordo     17  171510.0   \n",
       "540793   Nordeste     PB               Areial     25  250120.0   \n",
       "1163807   Sudeste     MG       Morro da Garça     31  314360.0   \n",
       "302573   Nordeste     PI  Bela Vista do Piauí     22  220155.0   \n",
       "2138932       Sul     RS              Vacaria     43  432250.0   \n",
       "1263176   Sudeste     MG   São José do Alegre     31  316320.0   \n",
       "\n",
       "         codRegiaoSaude           nomeRegiaoSaude        data  semanaEpi  \\\n",
       "1347521         33002.0         BAIXADA LITORANEA  2020-09-01         36   \n",
       "617939          25002.0                 2ª REGIAO  2021-02-16          7   \n",
       "1404009         35062.0                     BAURU  2021-03-13         10   \n",
       "537033          25001.0  1ª REGIAO MATA ATLANTICA  2021-02-08          6   \n",
       "178518          17006.0             CAPIM DOURADO  2020-04-02         14   \n",
       "540793          25003.0                 3ª REGIAO  2021-02-15          7   \n",
       "1163807         31019.0                   CURVELO  2021-03-03          9   \n",
       "302573          22008.0           VALE DO CANINDE  2020-10-25         44   \n",
       "2138932         43024.0                 REGIAO 24  2020-07-08         28   \n",
       "1263176         31003.0                   ITAJUBA  2020-05-13         20   \n",
       "\n",
       "         populacaoTCU2019  casosAcumulado  casosNovos  obitosAcumulado  \\\n",
       "1347521          226525.0          2060.0          47              118   \n",
       "617939             3148.0           164.0           0                1   \n",
       "1404009            5735.0           277.0           0                3   \n",
       "537033            19588.0           844.0           3               20   \n",
       "178518             4342.0             0.0           0                0   \n",
       "540793             6998.0           153.0           1                5   \n",
       "1163807            2462.0            47.0           5                3   \n",
       "302573             4015.0            44.0           0                1   \n",
       "2138932           66218.0           149.0           3                7   \n",
       "1263176            4196.0             0.0           0                0   \n",
       "\n",
       "         obitosNovos  Recuperadosnovos  emAcompanhamentoNovos  \\\n",
       "1347521            1               NaN                    NaN   \n",
       "617939             0               NaN                    NaN   \n",
       "1404009            0               NaN                    NaN   \n",
       "537033             0               NaN                    NaN   \n",
       "178518             0               NaN                    NaN   \n",
       "540793             0               NaN                    NaN   \n",
       "1163807            0               NaN                    NaN   \n",
       "302573             0               NaN                    NaN   \n",
       "2138932            0               NaN                    NaN   \n",
       "1263176            0               NaN                    NaN   \n",
       "\n",
       "         interior/metropolitana  \n",
       "1347521                     0.0  \n",
       "617939                      0.0  \n",
       "1404009                     0.0  \n",
       "537033                      1.0  \n",
       "178518                      0.0  \n",
       "540793                      0.0  \n",
       "1163807                     0.0  \n",
       "302573                      0.0  \n",
       "2138932                     0.0  \n",
       "1263176                     0.0  "
      ]
     },
     "execution_count": 5,
     "metadata": {},
     "output_type": "execute_result"
    }
   ],
   "source": [
    "df.sample(10)"
   ]
  },
  {
   "cell_type": "code",
   "execution_count": 6,
   "metadata": {},
   "outputs": [
    {
     "data": {
      "text/plain": [
       "estado\n",
       "SP    104295\n",
       "RJ     48024\n",
       "MG     37557\n",
       "RS     26724\n",
       "PR     24702\n",
       "BA     19972\n",
       "CE     19123\n",
       "GO     16114\n",
       "PE     14980\n",
       "SC     14465\n",
       "PA     13961\n",
       "AM     12855\n",
       "MT     10289\n",
       "ES     10259\n",
       "DF      8345\n",
       "MA      7727\n",
       "PB      7248\n",
       "MS      6230\n",
       "RN      5835\n",
       "PI      5537\n",
       "RO      5501\n",
       "SE      4746\n",
       "AL      4508\n",
       "TO      2727\n",
       "AP      1622\n",
       "AC      1620\n",
       "RR      1571\n",
       "Name: obitosAcumulado, dtype: int64"
      ]
     },
     "execution_count": 6,
     "metadata": {},
     "output_type": "execute_result"
    }
   ],
   "source": [
    "df.groupby('estado')['obitosAcumulado'].max().sort_values(ascending=False)"
   ]
  },
  {
   "cell_type": "code",
   "execution_count": 7,
   "metadata": {},
   "outputs": [
    {
     "data": {
      "text/plain": [
       "<AxesSubplot:ylabel='estado'>"
      ]
     },
     "execution_count": 7,
     "metadata": {},
     "output_type": "execute_result"
    },
    {
     "data": {
      "image/png": "[encoded data removed]",
      "text/plain": [
       "<Figure size 432x288 with 1 Axes>"
      ]
     },
     "metadata": {
      "needs_background": "light"
     },
     "output_type": "display_data"
    }
   ],
   "source": [
    "df.groupby('estado')['obitosAcumulado'].max().sort_values().tail(7).plot(kind='barh')"
   ]
  },
  {
   "cell_type": "code",
   "execution_count": 8,
   "metadata": {},
   "outputs": [
    {
     "data": {
      "text/plain": [
       "<AxesSubplot:xlabel='data'>"
      ]
     },
     "execution_count": 8,
     "metadata": {},
     "output_type": "execute_result"
    },
    {
     "data": {
      "image/png": "[encoded data removed]",
      "text/plain": [
       "<Figure size 432x288 with 1 Axes>"
      ]
     },
     "metadata": {
      "needs_background": "light"
     },
     "output_type": "display_data"
    }
   ],
   "source": [
    "sjc = df.query('municipio == \"São José dos Campos\"')\n",
    "sjc.tail(21).plot(kind='bar', \n",
    "        x='data', y='casosNovos', color='GREEN')"
   ]
  },
  {
   "cell_type": "code",
   "execution_count": 9,
   "metadata": {},
   "outputs": [
    {
     "data": {
      "text/plain": [
       "<AxesSubplot:xlabel='semanaEpi'>"
      ]
     },
     "execution_count": 9,
     "metadata": {},
     "output_type": "execute_result"
    },
    {
     "data": {
      "image/png": "[encoded data removed]",
      "text/plain": [
       "<Figure size 432x288 with 1 Axes>"
      ]
     },
     "metadata": {
      "needs_background": "light"
     },
     "output_type": "display_data"
    }
   ],
   "source": [
    "sjc.groupby('semanaEpi')['casosNovos'].sum().plot(kind='bar')"
   ]
  },
  {
   "cell_type": "code",
   "execution_count": 10,
   "metadata": {},
   "outputs": [
    {
     "data": {
      "text/plain": [
       "<AxesSubplot:xlabel='data'>"
      ]
     },
     "execution_count": 10,
     "metadata": {},
     "output_type": "execute_result"
    },
    {
     "data": {
      "image/png": "[encoded data removed]",
      "text/plain": [
       "<Figure size 432x288 with 1 Axes>"
      ]
     },
     "metadata": {
      "needs_background": "light"
     },
     "output_type": "display_data"
    }
   ],
   "source": [
    "sp = df.query('municipio == \"São Paulo\"')\n",
    "sp.tail(21).plot(kind='bar', \n",
    "        x='data', y='casosNovos', color='RED')"
   ]
  },
  {
   "cell_type": "code",
   "execution_count": 11,
   "metadata": {},
   "outputs": [
    {
     "data": {
      "text/plain": [
       "<AxesSubplot:xlabel='semanaEpi'>"
      ]
     },
     "execution_count": 11,
     "metadata": {},
     "output_type": "execute_result"
    },
    {
     "data": {
      "image/png": "[encoded data removed]",
      "text/plain": [
       "<Figure size 432x288 with 1 Axes>"
      ]
     },
     "metadata": {
      "needs_background": "light"
     },
     "output_type": "display_data"
    }
   ],
   "source": [
    "sp.groupby('semanaEpi')['casosNovos'].sum().plot(kind='bar')"
   ]
  },
  {
   "cell_type": "code",
   "execution_count": null,
   "metadata": {},
   "outputs": [],
   "source": []
  }
 ],
 "metadata": {
  "kernelspec": {
   "display_name": "Python 3",
   "language": "python",
   "name": "python3"
  },
  "language_info": {
   "codemirror_mode": {
    "name": "ipython",
    "version": 3
   },
   "file_extension": ".py",
   "mimetype": "text/x-python",
   "name": "python",
   "nbconvert_exporter": "python",
   "pygments_lexer": "ipython3",
   "version": "3.9.2"
  }
 },
 "nbformat": 4,
 "nbformat_minor": 4
}
